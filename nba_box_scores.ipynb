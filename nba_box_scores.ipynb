{
 "cells": [
  {
   "cell_type": "code",
   "execution_count": 1,
   "metadata": {},
   "outputs": [
    {
     "name": "stdout",
     "output_type": "stream",
     "text": [
      "Requirement already satisfied: py_ball in c:\\users\\brett\\appdata\\local\\continuum\\anaconda3\\lib\\site-packages (1.0.1)\n"
     ]
    }
   ],
   "source": [
    "!pip install py_ball"
   ]
  },
  {
   "cell_type": "code",
   "execution_count": null,
   "metadata": {},
   "outputs": [],
   "source": [
    "import numpy as np\n",
    "import pandas as pd\n",
    "import matplotlib.pyplot as plt\n",
    "import time\n",
    "import py_ball\n",
    "from py_ball import boxscore\n",
    "from py_ball import team"
   ]
  },
  {
   "cell_type": "code",
   "execution_count": null,
   "metadata": {},
   "outputs": [],
   "source": [
    "def pad_id(num):\n",
    "    \"\"\" pad_id adds the requisite number of leading\n",
    "    zeroes to a game number to form a valid game_id\n",
    "\n",
    "    @param num (int): Regular season game number\n",
    "\n",
    "    Returns:\n",
    "\n",
    "        num_str (str): Regular season game number\n",
    "        with leading zeroes\n",
    "    \"\"\"\n",
    "    \n",
    "    num_str = str(num)\n",
    "    while len(num_str) < 4:\n",
    "        num_str = '0' + num_str\n",
    "        \n",
    "    return num_str"
   ]
  },
  {
   "cell_type": "code",
   "execution_count": null,
   "metadata": {},
   "outputs": [],
   "source": [
    "def get_year_boxscores(year):\n",
    "    \"\"\" get_year_boxscores pulls data from the\n",
    "    boxscores endpoint of the stats.nba.com API\n",
    "\n",
    "    @param year (int): year corresponding to the year\n",
    "    in which the season began. For example, the 2017-2018\n",
    "    NBA season is represented as the year 2017.\n",
    "\n",
    "    Returns:\n",
    "\n",
    "        Saves two .csv files of the player and team boxscore data to the\n",
    "        current working directory with a name formatted\n",
    "        as player_boxscores_[year].csv and team_boxscores_[year].csv\n",
    "    \"\"\"\n",
    "\n",
    "    year_sub = str(year)[-2:]\n",
    "\n",
    "    base = '002' + year_sub + '0'\n",
    "\n",
    "    all_df = pd.DataFrame({})\n",
    "    new_df = pd.DataFrame({})\n",
    "\n",
    "    for x in range(1, 1231):\n",
    "        print('Game #' + str(x))\n",
    "        game_id_here = base + pad_id(x)\n",
    "\n",
    "        t0 = time.time()\n",
    "        box_score = boxscore.BoxScore(headers=HEADERS,\n",
    "                      endpoint='boxscoretraditionalv2',\n",
    "                      range_type='1',\n",
    "                      start_period='0', end_period='10',\n",
    "                      game_id=game_id_here,\n",
    "                      start_range='0', end_range='0')\n",
    "\n",
    "        player_box = pd.DataFrame(box_score.data['PlayerStats'])\n",
    "        team_box = pd.DataFrame(box_score.data['TeamStats'])\n",
    "        delay = time.time() - t0\n",
    "        print('Waiting ' + str(10*delay) + 's')\n",
    "        time.sleep(delay)\n",
    "\n",
    "        all_df = pd.concat([all_df, player_box], axis=0).reset_index(drop=True)\n",
    "        new_df = pd.concat([new_df, team_box], axis=0).reset_index(drop=True)\n",
    "\n",
    "    all_df.to_csv('player_boxscores_'+str(year)+'.csv', index=False)\n",
    "    new_df.to_csv('team_boxscores_'+str(year)+'.csv', index=False)"
   ]
  }
 ],
 "metadata": {
  "kernelspec": {
   "display_name": "Python 3",
   "language": "python",
   "name": "python3"
  },
  "language_info": {
   "codemirror_mode": {
    "name": "ipython",
    "version": 3
   },
   "file_extension": ".py",
   "mimetype": "text/x-python",
   "name": "python",
   "nbconvert_exporter": "python",
   "pygments_lexer": "ipython3",
   "version": "3.7.1"
  }
 },
 "nbformat": 4,
 "nbformat_minor": 2
}
